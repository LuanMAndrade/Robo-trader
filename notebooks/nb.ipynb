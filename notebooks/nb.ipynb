{
 "cells": [
  {
   "cell_type": "code",
   "execution_count": 2,
   "id": "b0a26855",
   "metadata": {},
   "outputs": [],
   "source": [
    "import numpy as np"
   ]
  },
  {
   "cell_type": "code",
   "execution_count": 3,
   "id": "21012298",
   "metadata": {},
   "outputs": [],
   "source": [
    "data_size = 7\n",
    "batch_size = 3\n",
    "input_size = 2\n",
    "amostra = np.random.randint(0,101,size=(data_size,input_size))"
   ]
  },
  {
   "cell_type": "code",
   "execution_count": 4,
   "id": "4e3367f0",
   "metadata": {},
   "outputs": [
    {
     "data": {
      "text/plain": [
       "array([[ 95,  82],\n",
       "       [  4,  89],\n",
       "       [ 10,  75],\n",
       "       [ 22, 100],\n",
       "       [ 44,  63],\n",
       "       [ 71,  44],\n",
       "       [ 73,  11]], dtype=int32)"
      ]
     },
     "execution_count": 4,
     "metadata": {},
     "output_type": "execute_result"
    }
   ],
   "source": [
    "amostra"
   ]
  },
  {
   "cell_type": "code",
   "execution_count": 5,
   "id": "9282fa14",
   "metadata": {},
   "outputs": [],
   "source": [
    "state = []\n",
    "deslocamento = []\n",
    "\n",
    "for indice, valor in enumerate(amostra[0:data_size-batch_size+1]):\n",
    "  state.append(valor)\n",
    "  for i in amostra[indice+1:indice+101]:\n",
    "    #print(f'no {indice} o state {state[0]} o i {i[0]} o r {deslocamento}')\n",
    "    if i[0] > state[indice][0]+5:\n",
    "      deslocamento.append(1)\n",
    "      break\n",
    "    elif i[0] < state[indice][0]-5:\n",
    "      deslocamento.append(-1)\n",
    "      break"
   ]
  },
  {
   "cell_type": "code",
   "execution_count": 6,
   "id": "a504eee9",
   "metadata": {},
   "outputs": [
    {
     "data": {
      "text/plain": [
       "[array([95, 82], dtype=int32),\n",
       " array([ 4, 89], dtype=int32),\n",
       " array([10, 75], dtype=int32),\n",
       " array([ 22, 100], dtype=int32),\n",
       " array([44, 63], dtype=int32)]"
      ]
     },
     "execution_count": 6,
     "metadata": {},
     "output_type": "execute_result"
    }
   ],
   "source": [
    "state"
   ]
  },
  {
   "cell_type": "code",
   "execution_count": 7,
   "id": "69b21dd9",
   "metadata": {},
   "outputs": [
    {
     "data": {
      "text/plain": [
       "[-1, 1, 1, 1, 1]"
      ]
     },
     "execution_count": 7,
     "metadata": {},
     "output_type": "execute_result"
    }
   ],
   "source": [
    "deslocamento"
   ]
  },
  {
   "cell_type": "code",
   "execution_count": 8,
   "id": "5110d6a2",
   "metadata": {},
   "outputs": [],
   "source": [
    "acao = [-1, 1, -1, -1, 1]\n",
    "reforco = []\n",
    "for indice, valor in enumerate(deslocamento):\n",
    "  x = acao[indice]*deslocamento[indice]\n",
    "  if x>0:\n",
    "    reforco.append(1)\n",
    "  elif x<0:\n",
    "    reforco.append(-1)\n",
    "  else: reforco.append(0)"
   ]
  },
  {
   "cell_type": "code",
   "execution_count": 9,
   "id": "446950f6",
   "metadata": {},
   "outputs": [
    {
     "data": {
      "text/plain": [
       "[1, 1, -1, -1, 1]"
      ]
     },
     "execution_count": 9,
     "metadata": {},
     "output_type": "execute_result"
    }
   ],
   "source": [
    "reforco"
   ]
  },
  {
   "cell_type": "code",
   "execution_count": 2,
   "id": "7128afd8",
   "metadata": {},
   "outputs": [
    {
     "ename": "ModuleNotFoundError",
     "evalue": "No module named 'src'",
     "output_type": "error",
     "traceback": [
      "\u001b[31m---------------------------------------------------------------------------\u001b[39m",
      "\u001b[31mModuleNotFoundError\u001b[39m                       Traceback (most recent call last)",
      "\u001b[36mCell\u001b[39m\u001b[36m \u001b[39m\u001b[32mIn[2]\u001b[39m\u001b[32m, line 1\u001b[39m\n\u001b[32m----> \u001b[39m\u001b[32m1\u001b[39m \u001b[38;5;28;01mfrom\u001b[39;00m\u001b[38;5;250m \u001b[39m\u001b[34;01msrc\u001b[39;00m\u001b[38;5;250m \u001b[39m\u001b[38;5;28;01mimport\u001b[39;00m scripts\n",
      "\u001b[31mModuleNotFoundError\u001b[39m: No module named 'src'"
     ]
    }
   ],
   "source": [
    "from src import scripts"
   ]
  },
  {
   "cell_type": "code",
   "execution_count": null,
   "id": "e0c7602e",
   "metadata": {},
   "outputs": [],
   "source": []
  }
 ],
 "metadata": {
  "kernelspec": {
   "display_name": "venv",
   "language": "python",
   "name": "python3"
  },
  "language_info": {
   "codemirror_mode": {
    "name": "ipython",
    "version": 3
   },
   "file_extension": ".py",
   "mimetype": "text/x-python",
   "name": "python",
   "nbconvert_exporter": "python",
   "pygments_lexer": "ipython3",
   "version": "3.13.3"
  }
 },
 "nbformat": 4,
 "nbformat_minor": 5
}
